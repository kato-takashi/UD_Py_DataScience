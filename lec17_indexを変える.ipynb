{
 "cells": [
  {
   "cell_type": "code",
   "execution_count": 1,
   "metadata": {
    "collapsed": true
   },
   "outputs": [],
   "source": [
    "import numpy as np\n",
    "import pandas as pd\n",
    "from pandas import Series, DataFrame"
   ]
  },
  {
   "cell_type": "code",
   "execution_count": 2,
   "metadata": {
    "collapsed": true
   },
   "outputs": [],
   "source": [
    "ser1 = Series(np.arange(1,5,1), index = ['A','B','C','D' ])"
   ]
  },
  {
   "cell_type": "code",
   "execution_count": 3,
   "metadata": {
    "collapsed": false
   },
   "outputs": [
    {
     "data": {
      "text/plain": [
       "A    1\n",
       "B    2\n",
       "C    3\n",
       "D    4\n",
       "dtype: int64"
      ]
     },
     "execution_count": 3,
     "metadata": {},
     "output_type": "execute_result"
    }
   ],
   "source": [
    "ser1"
   ]
  },
  {
   "cell_type": "code",
   "execution_count": 4,
   "metadata": {
    "collapsed": true
   },
   "outputs": [],
   "source": [
    "ser2 = ser1.reindex(['A','B','C','D','E','F'])"
   ]
  },
  {
   "cell_type": "code",
   "execution_count": 5,
   "metadata": {
    "collapsed": false
   },
   "outputs": [
    {
     "data": {
      "text/plain": [
       "A    1.0\n",
       "B    2.0\n",
       "C    3.0\n",
       "D    4.0\n",
       "E    NaN\n",
       "F    NaN\n",
       "dtype: float64"
      ]
     },
     "execution_count": 5,
     "metadata": {},
     "output_type": "execute_result"
    }
   ],
   "source": [
    "ser2"
   ]
  },
  {
   "cell_type": "code",
   "execution_count": 7,
   "metadata": {
    "collapsed": false
   },
   "outputs": [
    {
     "data": {
      "text/plain": [
       "A    1.0\n",
       "B    2.0\n",
       "C    3.0\n",
       "D    4.0\n",
       "E    NaN\n",
       "F    NaN\n",
       "G    0.0\n",
       "dtype: float64"
      ]
     },
     "execution_count": 7,
     "metadata": {},
     "output_type": "execute_result"
    }
   ],
   "source": [
    "ser2.reindex(['A','B','C','D','E','F','G'], fill_value=0)"
   ]
  },
  {
   "cell_type": "code",
   "execution_count": 9,
   "metadata": {
    "collapsed": false
   },
   "outputs": [],
   "source": [
    "ser3 = Series(['USA','MEXICO','CANADA'], index=[0,5,10])"
   ]
  },
  {
   "cell_type": "code",
   "execution_count": 10,
   "metadata": {
    "collapsed": false
   },
   "outputs": [
    {
     "data": {
      "text/plain": [
       "0        USA\n",
       "5     MEXICO\n",
       "10    CANADA\n",
       "dtype: object"
      ]
     },
     "execution_count": 10,
     "metadata": {},
     "output_type": "execute_result"
    }
   ],
   "source": [
    "ser3"
   ]
  },
  {
   "cell_type": "code",
   "execution_count": 12,
   "metadata": {
    "collapsed": false
   },
   "outputs": [
    {
     "data": {
      "text/plain": [
       "0        USA\n",
       "1        USA\n",
       "2        USA\n",
       "3        USA\n",
       "4        USA\n",
       "5     MEXICO\n",
       "6     MEXICO\n",
       "7     MEXICO\n",
       "8     MEXICO\n",
       "9     MEXICO\n",
       "10    CANADA\n",
       "11    CANADA\n",
       "12    CANADA\n",
       "13    CANADA\n",
       "14    CANADA\n",
       "dtype: object"
      ]
     },
     "execution_count": 12,
     "metadata": {},
     "output_type": "execute_result"
    }
   ],
   "source": [
    "ser3.reindex(range(15), method='ffill')"
   ]
  },
  {
   "cell_type": "code",
   "execution_count": 16,
   "metadata": {
    "collapsed": false
   },
   "outputs": [],
   "source": [
    "dframe = DataFrame(np.random.randn(25).reshape((5,5)), index=['A','B','D','E','F'], columns=['col1','col2','col3','col4','col5'])"
   ]
  },
  {
   "cell_type": "code",
   "execution_count": 17,
   "metadata": {
    "collapsed": false
   },
   "outputs": [
    {
     "data": {
      "text/html": [
       "<div>\n",
       "<table border=\"1\" class=\"dataframe\">\n",
       "  <thead>\n",
       "    <tr style=\"text-align: right;\">\n",
       "      <th></th>\n",
       "      <th>col1</th>\n",
       "      <th>col2</th>\n",
       "      <th>col3</th>\n",
       "      <th>col4</th>\n",
       "      <th>col5</th>\n",
       "    </tr>\n",
       "  </thead>\n",
       "  <tbody>\n",
       "    <tr>\n",
       "      <th>A</th>\n",
       "      <td>-0.133798</td>\n",
       "      <td>0.977964</td>\n",
       "      <td>-1.338654</td>\n",
       "      <td>-1.400994</td>\n",
       "      <td>0.467001</td>\n",
       "    </tr>\n",
       "    <tr>\n",
       "      <th>B</th>\n",
       "      <td>-1.231113</td>\n",
       "      <td>-0.556212</td>\n",
       "      <td>0.872914</td>\n",
       "      <td>0.509303</td>\n",
       "      <td>1.537857</td>\n",
       "    </tr>\n",
       "    <tr>\n",
       "      <th>D</th>\n",
       "      <td>-0.932641</td>\n",
       "      <td>-1.987770</td>\n",
       "      <td>-0.363659</td>\n",
       "      <td>-1.040487</td>\n",
       "      <td>0.115974</td>\n",
       "    </tr>\n",
       "    <tr>\n",
       "      <th>E</th>\n",
       "      <td>-0.913903</td>\n",
       "      <td>-0.917619</td>\n",
       "      <td>0.411828</td>\n",
       "      <td>-0.553869</td>\n",
       "      <td>1.371064</td>\n",
       "    </tr>\n",
       "    <tr>\n",
       "      <th>F</th>\n",
       "      <td>0.970114</td>\n",
       "      <td>-1.721894</td>\n",
       "      <td>1.474873</td>\n",
       "      <td>0.457430</td>\n",
       "      <td>0.452984</td>\n",
       "    </tr>\n",
       "  </tbody>\n",
       "</table>\n",
       "</div>"
      ],
      "text/plain": [
       "       col1      col2      col3      col4      col5\n",
       "A -0.133798  0.977964 -1.338654 -1.400994  0.467001\n",
       "B -1.231113 -0.556212  0.872914  0.509303  1.537857\n",
       "D -0.932641 -1.987770 -0.363659 -1.040487  0.115974\n",
       "E -0.913903 -0.917619  0.411828 -0.553869  1.371064\n",
       "F  0.970114 -1.721894  1.474873  0.457430  0.452984"
      ]
     },
     "execution_count": 17,
     "metadata": {},
     "output_type": "execute_result"
    }
   ],
   "source": [
    "dframe"
   ]
  },
  {
   "cell_type": "code",
   "execution_count": 18,
   "metadata": {
    "collapsed": true
   },
   "outputs": [],
   "source": [
    "new_index = ['A','B','C','D','E','F']"
   ]
  },
  {
   "cell_type": "code",
   "execution_count": 19,
   "metadata": {
    "collapsed": true
   },
   "outputs": [],
   "source": [
    "dframe2 = dframe.reindex(new_index)"
   ]
  },
  {
   "cell_type": "code",
   "execution_count": 20,
   "metadata": {
    "collapsed": false
   },
   "outputs": [
    {
     "data": {
      "text/html": [
       "<div>\n",
       "<table border=\"1\" class=\"dataframe\">\n",
       "  <thead>\n",
       "    <tr style=\"text-align: right;\">\n",
       "      <th></th>\n",
       "      <th>col1</th>\n",
       "      <th>col2</th>\n",
       "      <th>col3</th>\n",
       "      <th>col4</th>\n",
       "      <th>col5</th>\n",
       "    </tr>\n",
       "  </thead>\n",
       "  <tbody>\n",
       "    <tr>\n",
       "      <th>A</th>\n",
       "      <td>-0.133798</td>\n",
       "      <td>0.977964</td>\n",
       "      <td>-1.338654</td>\n",
       "      <td>-1.400994</td>\n",
       "      <td>0.467001</td>\n",
       "    </tr>\n",
       "    <tr>\n",
       "      <th>B</th>\n",
       "      <td>-1.231113</td>\n",
       "      <td>-0.556212</td>\n",
       "      <td>0.872914</td>\n",
       "      <td>0.509303</td>\n",
       "      <td>1.537857</td>\n",
       "    </tr>\n",
       "    <tr>\n",
       "      <th>C</th>\n",
       "      <td>NaN</td>\n",
       "      <td>NaN</td>\n",
       "      <td>NaN</td>\n",
       "      <td>NaN</td>\n",
       "      <td>NaN</td>\n",
       "    </tr>\n",
       "    <tr>\n",
       "      <th>D</th>\n",
       "      <td>-0.932641</td>\n",
       "      <td>-1.987770</td>\n",
       "      <td>-0.363659</td>\n",
       "      <td>-1.040487</td>\n",
       "      <td>0.115974</td>\n",
       "    </tr>\n",
       "    <tr>\n",
       "      <th>E</th>\n",
       "      <td>-0.913903</td>\n",
       "      <td>-0.917619</td>\n",
       "      <td>0.411828</td>\n",
       "      <td>-0.553869</td>\n",
       "      <td>1.371064</td>\n",
       "    </tr>\n",
       "    <tr>\n",
       "      <th>F</th>\n",
       "      <td>0.970114</td>\n",
       "      <td>-1.721894</td>\n",
       "      <td>1.474873</td>\n",
       "      <td>0.457430</td>\n",
       "      <td>0.452984</td>\n",
       "    </tr>\n",
       "  </tbody>\n",
       "</table>\n",
       "</div>"
      ],
      "text/plain": [
       "       col1      col2      col3      col4      col5\n",
       "A -0.133798  0.977964 -1.338654 -1.400994  0.467001\n",
       "B -1.231113 -0.556212  0.872914  0.509303  1.537857\n",
       "C       NaN       NaN       NaN       NaN       NaN\n",
       "D -0.932641 -1.987770 -0.363659 -1.040487  0.115974\n",
       "E -0.913903 -0.917619  0.411828 -0.553869  1.371064\n",
       "F  0.970114 -1.721894  1.474873  0.457430  0.452984"
      ]
     },
     "execution_count": 20,
     "metadata": {},
     "output_type": "execute_result"
    }
   ],
   "source": [
    "dframe2"
   ]
  },
  {
   "cell_type": "code",
   "execution_count": 21,
   "metadata": {
    "collapsed": false
   },
   "outputs": [
    {
     "data": {
      "text/html": [
       "<div>\n",
       "<table border=\"1\" class=\"dataframe\">\n",
       "  <thead>\n",
       "    <tr style=\"text-align: right;\">\n",
       "      <th></th>\n",
       "      <th>col1</th>\n",
       "      <th>col2</th>\n",
       "      <th>col3</th>\n",
       "      <th>col4</th>\n",
       "      <th>col5</th>\n",
       "      <th>col6</th>\n",
       "    </tr>\n",
       "  </thead>\n",
       "  <tbody>\n",
       "    <tr>\n",
       "      <th>A</th>\n",
       "      <td>-0.133798</td>\n",
       "      <td>0.977964</td>\n",
       "      <td>-1.338654</td>\n",
       "      <td>-1.400994</td>\n",
       "      <td>0.467001</td>\n",
       "      <td>NaN</td>\n",
       "    </tr>\n",
       "    <tr>\n",
       "      <th>B</th>\n",
       "      <td>-1.231113</td>\n",
       "      <td>-0.556212</td>\n",
       "      <td>0.872914</td>\n",
       "      <td>0.509303</td>\n",
       "      <td>1.537857</td>\n",
       "      <td>NaN</td>\n",
       "    </tr>\n",
       "    <tr>\n",
       "      <th>C</th>\n",
       "      <td>NaN</td>\n",
       "      <td>NaN</td>\n",
       "      <td>NaN</td>\n",
       "      <td>NaN</td>\n",
       "      <td>NaN</td>\n",
       "      <td>NaN</td>\n",
       "    </tr>\n",
       "    <tr>\n",
       "      <th>D</th>\n",
       "      <td>-0.932641</td>\n",
       "      <td>-1.987770</td>\n",
       "      <td>-0.363659</td>\n",
       "      <td>-1.040487</td>\n",
       "      <td>0.115974</td>\n",
       "      <td>NaN</td>\n",
       "    </tr>\n",
       "    <tr>\n",
       "      <th>E</th>\n",
       "      <td>-0.913903</td>\n",
       "      <td>-0.917619</td>\n",
       "      <td>0.411828</td>\n",
       "      <td>-0.553869</td>\n",
       "      <td>1.371064</td>\n",
       "      <td>NaN</td>\n",
       "    </tr>\n",
       "    <tr>\n",
       "      <th>F</th>\n",
       "      <td>0.970114</td>\n",
       "      <td>-1.721894</td>\n",
       "      <td>1.474873</td>\n",
       "      <td>0.457430</td>\n",
       "      <td>0.452984</td>\n",
       "      <td>NaN</td>\n",
       "    </tr>\n",
       "  </tbody>\n",
       "</table>\n",
       "</div>"
      ],
      "text/plain": [
       "       col1      col2      col3      col4      col5  col6\n",
       "A -0.133798  0.977964 -1.338654 -1.400994  0.467001   NaN\n",
       "B -1.231113 -0.556212  0.872914  0.509303  1.537857   NaN\n",
       "C       NaN       NaN       NaN       NaN       NaN   NaN\n",
       "D -0.932641 -1.987770 -0.363659 -1.040487  0.115974   NaN\n",
       "E -0.913903 -0.917619  0.411828 -0.553869  1.371064   NaN\n",
       "F  0.970114 -1.721894  1.474873  0.457430  0.452984   NaN"
      ]
     },
     "execution_count": 21,
     "metadata": {},
     "output_type": "execute_result"
    }
   ],
   "source": [
    "new_columns = ['col1','col2','col3','col4','col5','col6']\n",
    "dframe2.reindex(columns=new_columns )"
   ]
  },
  {
   "cell_type": "code",
   "execution_count": 22,
   "metadata": {
    "collapsed": false
   },
   "outputs": [
    {
     "data": {
      "text/html": [
       "<div>\n",
       "<table border=\"1\" class=\"dataframe\">\n",
       "  <thead>\n",
       "    <tr style=\"text-align: right;\">\n",
       "      <th></th>\n",
       "      <th>col1</th>\n",
       "      <th>col2</th>\n",
       "      <th>col3</th>\n",
       "      <th>col4</th>\n",
       "      <th>col5</th>\n",
       "    </tr>\n",
       "  </thead>\n",
       "  <tbody>\n",
       "    <tr>\n",
       "      <th>A</th>\n",
       "      <td>-0.133798</td>\n",
       "      <td>0.977964</td>\n",
       "      <td>-1.338654</td>\n",
       "      <td>-1.400994</td>\n",
       "      <td>0.467001</td>\n",
       "    </tr>\n",
       "    <tr>\n",
       "      <th>B</th>\n",
       "      <td>-1.231113</td>\n",
       "      <td>-0.556212</td>\n",
       "      <td>0.872914</td>\n",
       "      <td>0.509303</td>\n",
       "      <td>1.537857</td>\n",
       "    </tr>\n",
       "    <tr>\n",
       "      <th>D</th>\n",
       "      <td>-0.932641</td>\n",
       "      <td>-1.987770</td>\n",
       "      <td>-0.363659</td>\n",
       "      <td>-1.040487</td>\n",
       "      <td>0.115974</td>\n",
       "    </tr>\n",
       "    <tr>\n",
       "      <th>E</th>\n",
       "      <td>-0.913903</td>\n",
       "      <td>-0.917619</td>\n",
       "      <td>0.411828</td>\n",
       "      <td>-0.553869</td>\n",
       "      <td>1.371064</td>\n",
       "    </tr>\n",
       "    <tr>\n",
       "      <th>F</th>\n",
       "      <td>0.970114</td>\n",
       "      <td>-1.721894</td>\n",
       "      <td>1.474873</td>\n",
       "      <td>0.457430</td>\n",
       "      <td>0.452984</td>\n",
       "    </tr>\n",
       "  </tbody>\n",
       "</table>\n",
       "</div>"
      ],
      "text/plain": [
       "       col1      col2      col3      col4      col5\n",
       "A -0.133798  0.977964 -1.338654 -1.400994  0.467001\n",
       "B -1.231113 -0.556212  0.872914  0.509303  1.537857\n",
       "D -0.932641 -1.987770 -0.363659 -1.040487  0.115974\n",
       "E -0.913903 -0.917619  0.411828 -0.553869  1.371064\n",
       "F  0.970114 -1.721894  1.474873  0.457430  0.452984"
      ]
     },
     "execution_count": 22,
     "metadata": {},
     "output_type": "execute_result"
    }
   ],
   "source": [
    "dframe"
   ]
  },
  {
   "cell_type": "code",
   "execution_count": 23,
   "metadata": {
    "collapsed": false
   },
   "outputs": [
    {
     "ename": "SyntaxError",
     "evalue": "invalid syntax (<ipython-input-23-4a3aa2daf519>, line 1)",
     "output_type": "error",
     "traceback": [
      "\u001b[0;36m  File \u001b[0;32m\"<ipython-input-23-4a3aa2daf519>\"\u001b[0;36m, line \u001b[0;32m1\u001b[0m\n\u001b[0;31m    dfreme.ix{new_index, new_columns}\u001b[0m\n\u001b[0m             ^\u001b[0m\n\u001b[0;31mSyntaxError\u001b[0m\u001b[0;31m:\u001b[0m invalid syntax\n"
     ]
    }
   ],
   "source": [
    "dfreme.ix{new_index, new_columns}"
   ]
  },
  {
   "cell_type": "code",
   "execution_count": null,
   "metadata": {
    "collapsed": true
   },
   "outputs": [],
   "source": []
  }
 ],
 "metadata": {
  "anaconda-cloud": {},
  "kernelspec": {
   "display_name": "Python [Root]",
   "language": "python",
   "name": "Python [Root]"
  },
  "language_info": {
   "codemirror_mode": {
    "name": "ipython",
    "version": 3
   },
   "file_extension": ".py",
   "mimetype": "text/x-python",
   "name": "python",
   "nbconvert_exporter": "python",
   "pygments_lexer": "ipython3",
   "version": "3.5.2"
  }
 },
 "nbformat": 4,
 "nbformat_minor": 0
}
